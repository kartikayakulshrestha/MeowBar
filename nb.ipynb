{
 "cells": [
  {
   "cell_type": "code",
   "execution_count": 7,
   "metadata": {},
   "outputs": [],
   "source": [
    "import tensorflow as tf\n",
    "#usually tensorflow.keras.models hota hai. but we are writing so \n",
    "#because we have the keras file directly installed\n",
    "from keras.layers import Conv2D,MaxPool2D,Flatten,Dense\n",
    "from keras.models import Sequential\n",
    "\n",
    "import numpy as nump\n",
    "\n",
    "import matplotlib.pyplot as plot"
   ]
  },
  {
   "cell_type": "code",
   "execution_count": 8,
   "metadata": {},
   "outputs": [],
   "source": [
    "#Going to do binary image classification with cnn with tensorflow \n",
    "\n",
    "\"\"\"Data set loading...\"\"\"\n",
    "\n",
    "\n",
    "#importing images here\n",
    "L_train= nump.loadtxt(\"Image Classification CNN Keras Dataset/input.csv\" , delimiter=\",\")\n",
    "M_train= nump.loadtxt(\"Image Classification CNN Keras Dataset/labels.csv\" , delimiter=\",\")\n",
    "\n",
    "L_test=nump.loadtxt(\"Image Classification CNN Keras Dataset/input_test.csv\" , delimiter=\",\")\n",
    "M_test=nump.loadtxt(\"Image Classification CNN Keras Dataset/labels_test.csv\" , delimiter=\",\")\n",
    "\n",
    "#resizing them in\n",
    "L_train=nump.reshape(L_train,(len(L_train),100,100,3))\n",
    "M_train=nump.reshape(M_train,(len(M_train),1))\n",
    "\n",
    "L_test=nump.reshape(L_test,(len(L_test),100,100,3))\n",
    "M_test=nump.reshape(M_test,(len(M_test),1))\n",
    "\n",
    "#we want our pixil to be between to 0 to 1\n",
    "L_train=L_train/255.0\n",
    "M_train=M_train/255.0"
   ]
  },
  {
   "cell_type": "code",
   "execution_count": 9,
   "metadata": {},
   "outputs": [],
   "source": [
    "\n",
    "\"\"\"Model sequence\"\"\"\n",
    "model=Sequential([\n",
    "    Conv2D(32,(3,3),activation=\"relu\",input_shape=(100,100,3)),\n",
    "    MaxPool2D((2,2)),\n",
    "\n",
    "    Conv2D(32,(3,3),activation=\"relu\",padding=\"same\"),\n",
    "    MaxPool2D((2,2)),\n",
    "\n",
    "    Flatten(),\n",
    "    Dense(64,activation=\"relu\"),\n",
    "    Dense(1,activation=\"sigmoid\")\n",
    "])"
   ]
  },
  {
   "cell_type": "code",
   "execution_count": 10,
   "metadata": {},
   "outputs": [
    {
     "name": "stdout",
     "output_type": "stream",
     "text": [
      "Epoch 1/2\n",
      "32/32 [==============================] - 14s 412ms/step - loss: 0.0401 - accuracy: 0.5000\n",
      "Epoch 2/2\n",
      "32/32 [==============================] - 14s 426ms/step - loss: 0.0153 - accuracy: 0.5000\n"
     ]
    },
    {
     "data": {
      "text/plain": [
       "<keras.src.callbacks.History at 0x1ee80021b50>"
      ]
     },
     "execution_count": 10,
     "metadata": {},
     "output_type": "execute_result"
    }
   ],
   "source": [
    "\n",
    "\"\"\"Model cost function and backpropagation algo\"\"\"\n",
    "model.compile(optimizer=\"adam\",loss=\"binary_crossentropy\",metrics=[\"accuracy\"])\n",
    "\n",
    "model.fit(L_train,M_train, epochs=2,batch_size=64)\n"
   ]
  },
  {
   "cell_type": "code",
   "execution_count": 11,
   "metadata": {},
   "outputs": [
    {
     "name": "stdout",
     "output_type": "stream",
     "text": [
      "Epoch 1/5\n",
      "32/32 [==============================] - 15s 445ms/step - loss: 0.0153 - accuracy: 0.5000\n",
      "Epoch 2/5\n",
      "29/32 [==========================>...] - ETA: 1s - loss: 0.0144 - accuracy: 0.4968"
     ]
    }
   ],
   "source": [
    "\n",
    "\"\"\"Model cost function and backpropagation algo\"\"\"\n",
    "model.compile(optimizer=\"adam\",loss=\"binary_crossentropy\",metrics=[\"accuracy\"])\n",
    "\n",
    "model.fit(L_train,M_train, epochs=5,batch_size=64)"
   ]
  },
  {
   "cell_type": "markdown",
   "metadata": {},
   "source": []
  }
 ],
 "metadata": {
  "kernelspec": {
   "display_name": "Python 3",
   "language": "python",
   "name": "python3"
  },
  "language_info": {
   "codemirror_mode": {
    "name": "ipython",
    "version": 3
   },
   "file_extension": ".py",
   "mimetype": "text/x-python",
   "name": "python",
   "nbconvert_exporter": "python",
   "pygments_lexer": "ipython3",
   "version": "3.11.4"
  },
  "orig_nbformat": 4
 },
 "nbformat": 4,
 "nbformat_minor": 2
}
