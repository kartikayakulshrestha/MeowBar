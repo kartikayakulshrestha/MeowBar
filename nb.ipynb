{
 "cells": [
  {
   "cell_type": "code",
   "execution_count": 7,
   "metadata": {},
   "outputs": [],
   "source": [
    "import tensorflow as tf\n",
    "#usually tensorflow.keras.models hota hai. but we are writing so \n",
    "#because we have the keras file directly installed\n",
    "from keras.layers import Conv2D,MaxPool2D,Flatten,Dense\n",
    "from keras.models import Sequential\n",
    "\n",
    "import numpy as nump\n",
    "\n",
    "import matplotlib.pyplot as plot"
   ]
  },
  {
   "cell_type": "code",
   "execution_count": 8,
   "metadata": {},
   "outputs": [],
   "source": [
    "#Going to do binary image classification with cnn with tensorflow \n",
    "\n",
    "\"\"\"Data set loading...\"\"\"\n",
    "\n",
    "\n",
    "#importing images here\n",
    "L_train= nump.loadtxt(\"Image Classification CNN Keras Dataset/input.csv\" , delimiter=\",\")\n",
    "M_train= nump.loadtxt(\"Image Classification CNN Keras Dataset/labels.csv\" , delimiter=\",\")\n",
    "\n",
    "L_test=nump.loadtxt(\"Image Classification CNN Keras Dataset/input_test.csv\" , delimiter=\",\")\n",
    "M_test=nump.loadtxt(\"Image Classification CNN Keras Dataset/labels_test.csv\" , delimiter=\",\")\n",
    "\n",
    "#resizing them in\n",
    "L_train=nump.reshape(L_train,(len(L_train),100,100,3))\n",
    "M_train=nump.reshape(M_train,(len(M_train),1))\n",
    "\n",
    "L_test=nump.reshape(L_test,(len(L_test),100,100,3))\n",
    "M_test=nump.reshape(M_test,(len(M_test),1))\n",
    "\n",
    "#we want our pixil to be between to 0 to 1\n",
    "L_train=L_train/255.0\n",
    "M_train=M_train/255.0"
   ]
  },
  {
   "cell_type": "code",
   "execution_count": 16,
   "metadata": {},
   "outputs": [],
   "source": [
    "\n",
    "\"\"\"Model sequence\"\"\"\n",
    "model=Sequential([\n",
    "    Conv2D(32,(3,3),activation=\"relu\",input_shape=(100,100,3)),\n",
    "    MaxPool2D((2,2)),\n",
    "\n",
    "    Conv2D(32,(3,3),activation=\"relu\"),\n",
    "    MaxPool2D((2,2)),\n",
    "\n",
    "    Flatten(),\n",
    "    Dense(64,activation=\"relu\"),\n",
    "    Dense(32,activation=\"relu\"),\n",
    "    Dense(16,activation=\"relu\"),\n",
    "    Dense(8,activation=\"relu\"),\n",
    "    Dense(1,activation=\"sigmoid\")\n",
    "])"
   ]
  },
  {
   "cell_type": "code",
   "execution_count": 24,
   "metadata": {},
   "outputs": [
    {
     "name": "stdout",
     "output_type": "stream",
     "text": [
      "Epoch 1/5\n",
      "32/32 [==============================] - 14s 400ms/step - loss: 0.0141 - accuracy: 0.5000\n",
      "Epoch 2/5\n",
      "32/32 [==============================] - 14s 445ms/step - loss: 0.0139 - accuracy: 0.5000\n",
      "Epoch 3/5\n",
      "32/32 [==============================] - 13s 402ms/step - loss: 0.0139 - accuracy: 0.5000\n",
      "Epoch 4/5\n",
      "32/32 [==============================] - 13s 393ms/step - loss: 0.0138 - accuracy: 0.5000\n",
      "Epoch 5/5\n",
      "32/32 [==============================] - 13s 391ms/step - loss: 0.0138 - accuracy: 0.5000\n"
     ]
    },
    {
     "data": {
      "text/plain": [
       "<keras.src.callbacks.History at 0x1ee8a7c0b50>"
      ]
     },
     "execution_count": 24,
     "metadata": {},
     "output_type": "execute_result"
    }
   ],
   "source": [
    "\n",
    "\"\"\"Model cost function and backpropagation algo\"\"\"\n",
    "model.compile(optimizer=\"adam\",loss=\"binary_crossentropy\",metrics=[\"accuracy\"])\n",
    "\n",
    "model.fit(L_train,M_train, epochs=5,batch_size=64)\n"
   ]
  },
  {
   "cell_type": "code",
   "execution_count": 26,
   "metadata": {},
   "outputs": [
    {
     "name": "stdout",
     "output_type": "stream",
     "text": [
      "Epoch 1/5\n",
      "32/32 [==============================] - 13s 391ms/step - loss: 0.0140 - accuracy: 0.5000\n",
      "Epoch 2/5\n",
      "32/32 [==============================] - 13s 397ms/step - loss: 0.0137 - accuracy: 0.5000\n",
      "Epoch 3/5\n",
      "32/32 [==============================] - 13s 406ms/step - loss: 0.0137 - accuracy: 0.5000\n",
      "Epoch 4/5\n",
      "32/32 [==============================] - 12s 384ms/step - loss: 0.0136 - accuracy: 0.5000\n",
      "Epoch 5/5\n",
      "32/32 [==============================] - 13s 419ms/step - loss: 0.0135 - accuracy: 0.5000\n"
     ]
    },
    {
     "data": {
      "text/plain": [
       "<keras.src.callbacks.History at 0x1ee86426e90>"
      ]
     },
     "execution_count": 26,
     "metadata": {},
     "output_type": "execute_result"
    }
   ],
   "source": []
  },
  {
   "cell_type": "code",
   "execution_count": null,
   "metadata": {},
   "outputs": [],
   "source": [
    "\n",
    "\"\"\"Model cost function and backpropagation algo\"\"\"\n",
    "model.compile(optimizer=\"adam\",loss=\"binary_crossentropy\",metrics=[\"accuracy\"])\n",
    "\n",
    "model.fit(L_train,M_train, epochs=5,batch_size=64)"
   ]
  },
  {
   "cell_type": "markdown",
   "metadata": {},
   "source": []
  },
  {
   "cell_type": "code",
   "execution_count": 28,
   "metadata": {},
   "outputs": [
    {
     "name": "stdout",
     "output_type": "stream",
     "text": [
      "13/13 [==============================] - 1s 46ms/step - loss: 368.6984 - accuracy: 0.5000\n"
     ]
    },
    {
     "data": {
      "text/plain": [
       "[368.69842529296875, 0.5]"
      ]
     },
     "execution_count": 28,
     "metadata": {},
     "output_type": "execute_result"
    }
   ],
   "source": [
    "model.evaluate(L_test,M_test)"
   ]
  }
 ],
 "metadata": {
  "kernelspec": {
   "display_name": "Python 3",
   "language": "python",
   "name": "python3"
  },
  "language_info": {
   "codemirror_mode": {
    "name": "ipython",
    "version": 3
   },
   "file_extension": ".py",
   "mimetype": "text/x-python",
   "name": "python",
   "nbconvert_exporter": "python",
   "pygments_lexer": "ipython3",
   "version": "3.11.4"
  },
  "orig_nbformat": 4
 },
 "nbformat": 4,
 "nbformat_minor": 2
}
