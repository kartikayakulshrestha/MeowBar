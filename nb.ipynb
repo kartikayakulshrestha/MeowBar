{
 "cells": [
  {
   "cell_type": "code",
   "execution_count": 7,
   "metadata": {},
   "outputs": [],
   "source": [
    "import tensorflow as tf\n",
    "#usually tensorflow.keras.models hota hai. but we are writing so \n",
    "#because we have the keras file directly installed\n",
    "from keras.layers import Conv2D,MaxPool2D,Flatten,Dense\n",
    "from keras.models import Sequential\n",
    "\n",
    "import numpy as nump\n",
    "import random\n",
    "import matplotlib.pyplot as plot"
   ]
  },
  {
   "cell_type": "code",
   "execution_count": 40,
   "metadata": {},
   "outputs": [],
   "source": [
    "#Going to do binary image classification with cnn with tensorflow \n",
    "\n",
    "\"\"\"Data set loading...\"\"\"\n",
    "\n",
    "\n",
    "#importing images here\n",
    "L_train= nump.loadtxt(\"Image Classification CNN Keras Dataset/input.csv\" , delimiter=\",\")\n",
    "M_train= nump.loadtxt(\"Image Classification CNN Keras Dataset/labels.csv\" , delimiter=\",\")\n",
    "\n",
    "L_test=nump.loadtxt(\"Image Classification CNN Keras Dataset/input_test.csv\" , delimiter=\",\")\n",
    "M_test=nump.loadtxt(\"Image Classification CNN Keras Dataset/labels_test.csv\" , delimiter=\",\")\n",
    "\n",
    "#resizing them in\n",
    "L_train=nump.reshape(L_train,(len(L_train),100,100,3))\n",
    "M_train=nump.reshape(M_train,(len(M_train),1))\n",
    "\n",
    "L_test=nump.reshape(L_test,(len(L_test),100,100,3))\n",
    "M_test=nump.reshape(M_test,(len(M_test),1))\n",
    "\n",
    "#we want our pixil to be between to 0 to 1\n",
    "L_train=L_train/255.0\n",
    "M_train=M_train/255.0"
   ]
  },
  {
   "cell_type": "code",
   "execution_count": 29,
   "metadata": {},
   "outputs": [],
   "source": [
    "\n",
    "\"\"\"Model sequence\"\"\"\n",
    "model=Sequential([\n",
    "    Conv2D(32,(3,3),activation=\"relu\",input_shape=(100,100,3)),\n",
    "    MaxPool2D((2,2)),\n",
    "\n",
    "    Conv2D(32,(3,3),activation=\"relu\"),\n",
    "    MaxPool2D((2,2)),\n",
    "\n",
    "    Flatten(),\n",
    "    Dense(64,activation=\"relu\"),\n",
    "    \n",
    "    Dense(1,activation=\"sigmoid\")\n",
    "])"
   ]
  },
  {
   "cell_type": "code",
   "execution_count": 30,
   "metadata": {},
   "outputs": [
    {
     "name": "stdout",
     "output_type": "stream",
     "text": [
      "Epoch 1/5\n",
      "32/32 [==============================] - 14s 401ms/step - loss: 0.0443 - accuracy: 0.4910\n",
      "Epoch 2/5\n",
      "32/32 [==============================] - 13s 398ms/step - loss: 0.0156 - accuracy: 0.5000\n",
      "Epoch 3/5\n",
      "32/32 [==============================] - 13s 411ms/step - loss: 0.0145 - accuracy: 0.5000\n",
      "Epoch 4/5\n",
      "32/32 [==============================] - 14s 428ms/step - loss: 0.0142 - accuracy: 0.5000\n",
      "Epoch 5/5\n",
      "32/32 [==============================] - 15s 452ms/step - loss: 0.0141 - accuracy: 0.5000\n"
     ]
    },
    {
     "data": {
      "text/plain": [
       "<keras.src.callbacks.History at 0x1ee86fbb1d0>"
      ]
     },
     "execution_count": 30,
     "metadata": {},
     "output_type": "execute_result"
    }
   ],
   "source": [
    "\n",
    "\"\"\"Model cost function and backpropagation algo\"\"\"\n",
    "model.compile(optimizer=\"adam\",loss=\"binary_crossentropy\",metrics=[\"accuracy\"])\n",
    "\n",
    "model.fit(L_train,M_train, epochs=5,batch_size=64)\n"
   ]
  },
  {
   "cell_type": "code",
   "execution_count": 26,
   "metadata": {},
   "outputs": [
    {
     "name": "stdout",
     "output_type": "stream",
     "text": [
      "Epoch 1/5\n",
      "32/32 [==============================] - 13s 391ms/step - loss: 0.0140 - accuracy: 0.5000\n",
      "Epoch 2/5\n",
      "32/32 [==============================] - 13s 397ms/step - loss: 0.0137 - accuracy: 0.5000\n",
      "Epoch 3/5\n",
      "32/32 [==============================] - 13s 406ms/step - loss: 0.0137 - accuracy: 0.5000\n",
      "Epoch 4/5\n",
      "32/32 [==============================] - 12s 384ms/step - loss: 0.0136 - accuracy: 0.5000\n",
      "Epoch 5/5\n",
      "32/32 [==============================] - 13s 419ms/step - loss: 0.0135 - accuracy: 0.5000\n"
     ]
    },
    {
     "data": {
      "text/plain": [
       "<keras.src.callbacks.History at 0x1ee86426e90>"
      ]
     },
     "execution_count": 26,
     "metadata": {},
     "output_type": "execute_result"
    }
   ],
   "source": []
  },
  {
   "cell_type": "code",
   "execution_count": null,
   "metadata": {},
   "outputs": [],
   "source": [
    "\n",
    "\"\"\"Model cost function and backpropagation algo\"\"\"\n",
    "model.compile(optimizer=\"adam\",loss=\"binary_crossentropy\",metrics=[\"accuracy\"])\n",
    "\n",
    "model.fit(L_train,M_train, epochs=5,batch_size=64)"
   ]
  },
  {
   "cell_type": "markdown",
   "metadata": {},
   "source": []
  },
  {
   "cell_type": "code",
   "execution_count": 31,
   "metadata": {},
   "outputs": [
    {
     "name": "stdout",
     "output_type": "stream",
     "text": [
      "13/13 [==============================] - 1s 46ms/step - loss: 390.8153 - accuracy: 0.5000\n"
     ]
    },
    {
     "data": {
      "text/plain": [
       "[390.8153381347656, 0.5]"
      ]
     },
     "execution_count": 31,
     "metadata": {},
     "output_type": "execute_result"
    }
   ],
   "source": [
    "model.evaluate(L_test,M_test)"
   ]
  },
  {
   "cell_type": "code",
   "execution_count": 51,
   "metadata": {},
   "outputs": [
    {
     "name": "stdout",
     "output_type": "stream",
     "text": [
      "[[[0.51372549 0.50196078 0.52941176]\n",
      "  [0.62745098 0.61568627 0.64313725]\n",
      "  [0.77647059 0.75294118 0.8       ]\n",
      "  ...\n",
      "  [0.98039216 0.97647059 0.96862745]\n",
      "  [1.         1.         0.99215686]\n",
      "  [0.98039216 0.97647059 0.96078431]]\n",
      "\n",
      " [[0.54901961 0.5372549  0.56470588]\n",
      "  [0.49803922 0.48627451 0.51372549]\n",
      "  [0.47058824 0.44705882 0.48627451]\n",
      "  ...\n",
      "  [0.98431373 0.99215686 0.98823529]\n",
      "  [0.99607843 1.         0.99215686]\n",
      "  [0.99607843 1.         0.98431373]]\n",
      "\n",
      " [[0.8        0.79215686 0.81176471]\n",
      "  [0.73333333 0.7254902  0.74509804]\n",
      "  [0.57647059 0.55686275 0.58039216]\n",
      "  ...\n",
      "  [0.97647059 1.         1.        ]\n",
      "  [0.93333333 0.96862745 0.94901961]\n",
      "  [0.90980392 0.94509804 0.9254902 ]]\n",
      "\n",
      " ...\n",
      "\n",
      " [[0.68235294 0.71372549 0.76470588]\n",
      "  [0.6745098  0.70588235 0.75686275]\n",
      "  [0.69803922 0.72941176 0.77254902]\n",
      "  ...\n",
      "  [0.34117647 0.44705882 0.38039216]\n",
      "  [0.29411765 0.38823529 0.3254902 ]\n",
      "  [0.31372549 0.41176471 0.3372549 ]]\n",
      "\n",
      " [[0.65098039 0.67843137 0.74117647]\n",
      "  [0.64313725 0.6745098  0.7254902 ]\n",
      "  [0.6745098  0.70588235 0.75686275]\n",
      "  ...\n",
      "  [0.30588235 0.41568627 0.32941176]\n",
      "  [0.28235294 0.38039216 0.29803922]\n",
      "  [0.30196078 0.4        0.31764706]]\n",
      "\n",
      " [[0.67843137 0.70588235 0.76862745]\n",
      "  [0.6745098  0.70196078 0.76470588]\n",
      "  [0.68235294 0.71372549 0.76470588]\n",
      "  ...\n",
      "  [0.24705882 0.35686275 0.27058824]\n",
      "  [0.24313725 0.34117647 0.25490196]\n",
      "  [0.27843137 0.37647059 0.29019608]]]\n",
      "1896\n"
     ]
    }
   ],
   "source": [
    "x=\"https://img.freepik.com/free-photo/isolated-happy-smiling-dog-white-background-portrait-4_1562-693.jpg?w=1060&t=st=1692020253~exp=1692020853~hmac=26fc9a9faeca12b7774bb06c81265ba19303f7b1b7ca51252e3032dce8fc54d4\"\n",
    "imageToPredict=x\n",
    "import random\n",
    "\n",
    "index=random.randint(0,len(L_train))\n",
    "\n",
    "plot.imshow(L_train[index])\n"
   ]
  }
 ],
 "metadata": {
  "kernelspec": {
   "display_name": "Python 3",
   "language": "python",
   "name": "python3"
  },
  "language_info": {
   "codemirror_mode": {
    "name": "ipython",
    "version": 3
   },
   "file_extension": ".py",
   "mimetype": "text/x-python",
   "name": "python",
   "nbconvert_exporter": "python",
   "pygments_lexer": "ipython3",
   "version": "3.11.4"
  },
  "orig_nbformat": 4
 },
 "nbformat": 4,
 "nbformat_minor": 2
}
